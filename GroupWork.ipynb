{
  "nbformat": 4,
  "nbformat_minor": 0,
  "metadata": {
    "colab": {
      "provenance": []
    },
    "kernelspec": {
      "name": "python3",
      "display_name": "Python 3"
    },
    "language_info": {
      "name": "python"
    }
  },
  "cells": [
    {
      "cell_type": "code",
      "execution_count": 21,
      "metadata": {
        "colab": {
          "base_uri": "https://localhost:8080/"
        },
        "id": "HQ3vuraPAByr",
        "outputId": "e1dfc612-312e-40e9-f25c-b6c606fc5d8c"
      },
      "outputs": [
        {
          "output_type": "stream",
          "name": "stdout",
          "text": [
            "Requirement already satisfied: missingno in /usr/local/lib/python3.12/dist-packages (0.5.2)\n",
            "Requirement already satisfied: numpy in /usr/local/lib/python3.12/dist-packages (from missingno) (2.0.2)\n",
            "Requirement already satisfied: matplotlib in /usr/local/lib/python3.12/dist-packages (from missingno) (3.10.0)\n",
            "Requirement already satisfied: scipy in /usr/local/lib/python3.12/dist-packages (from missingno) (1.16.2)\n",
            "Requirement already satisfied: seaborn in /usr/local/lib/python3.12/dist-packages (from missingno) (0.13.2)\n",
            "Requirement already satisfied: contourpy>=1.0.1 in /usr/local/lib/python3.12/dist-packages (from matplotlib->missingno) (1.3.3)\n",
            "Requirement already satisfied: cycler>=0.10 in /usr/local/lib/python3.12/dist-packages (from matplotlib->missingno) (0.12.1)\n",
            "Requirement already satisfied: fonttools>=4.22.0 in /usr/local/lib/python3.12/dist-packages (from matplotlib->missingno) (4.60.0)\n",
            "Requirement already satisfied: kiwisolver>=1.3.1 in /usr/local/lib/python3.12/dist-packages (from matplotlib->missingno) (1.4.9)\n",
            "Requirement already satisfied: packaging>=20.0 in /usr/local/lib/python3.12/dist-packages (from matplotlib->missingno) (25.0)\n",
            "Requirement already satisfied: pillow>=8 in /usr/local/lib/python3.12/dist-packages (from matplotlib->missingno) (11.3.0)\n",
            "Requirement already satisfied: pyparsing>=2.3.1 in /usr/local/lib/python3.12/dist-packages (from matplotlib->missingno) (3.2.4)\n",
            "Requirement already satisfied: python-dateutil>=2.7 in /usr/local/lib/python3.12/dist-packages (from matplotlib->missingno) (2.9.0.post0)\n",
            "Requirement already satisfied: pandas>=1.2 in /usr/local/lib/python3.12/dist-packages (from seaborn->missingno) (2.2.2)\n",
            "Requirement already satisfied: pytz>=2020.1 in /usr/local/lib/python3.12/dist-packages (from pandas>=1.2->seaborn->missingno) (2025.2)\n",
            "Requirement already satisfied: tzdata>=2022.7 in /usr/local/lib/python3.12/dist-packages (from pandas>=1.2->seaborn->missingno) (2025.2)\n",
            "Requirement already satisfied: six>=1.5 in /usr/local/lib/python3.12/dist-packages (from python-dateutil>=2.7->matplotlib->missingno) (1.17.0)\n"
          ]
        }
      ],
      "source": [
        "import pandas as pd\n",
        "import numpy as np\n",
        "import zipfile\n",
        "import os\n",
        "from google.colab import files\n",
        "import matplotlib.pyplot as plt\n",
        "!pip install missingno"
      ]
    },
    {
      "cell_type": "code",
      "source": [
        "uploaded = files.upload()\n",
        "# Extract the uploaded zip\n",
        "for filename in uploaded.keys():\n",
        "    with zipfile.ZipFile(filename, 'r') as zip_ref:\n",
        "        zip_ref.extractall(\"extracted\")\n",
        "    print(\"Extracted to /content/extracted\")"
      ],
      "metadata": {
        "colab": {
          "base_uri": "https://localhost:8080/",
          "height": 90
        },
        "id": "CZCwwI9AAhMt",
        "outputId": "736f5594-2835-4be2-e2cd-089df272bb2a"
      },
      "execution_count": 7,
      "outputs": [
        {
          "output_type": "display_data",
          "data": {
            "text/plain": [
              "<IPython.core.display.HTML object>"
            ],
            "text/html": [
              "\n",
              "     <input type=\"file\" id=\"files-f77b04d4-532e-4d0b-8b2b-7cdf21840352\" name=\"files[]\" multiple disabled\n",
              "        style=\"border:none\" />\n",
              "     <output id=\"result-f77b04d4-532e-4d0b-8b2b-7cdf21840352\">\n",
              "      Upload widget is only available when the cell has been executed in the\n",
              "      current browser session. Please rerun this cell to enable.\n",
              "      </output>\n",
              "      <script>// Copyright 2017 Google LLC\n",
              "//\n",
              "// Licensed under the Apache License, Version 2.0 (the \"License\");\n",
              "// you may not use this file except in compliance with the License.\n",
              "// You may obtain a copy of the License at\n",
              "//\n",
              "//      http://www.apache.org/licenses/LICENSE-2.0\n",
              "//\n",
              "// Unless required by applicable law or agreed to in writing, software\n",
              "// distributed under the License is distributed on an \"AS IS\" BASIS,\n",
              "// WITHOUT WARRANTIES OR CONDITIONS OF ANY KIND, either express or implied.\n",
              "// See the License for the specific language governing permissions and\n",
              "// limitations under the License.\n",
              "\n",
              "/**\n",
              " * @fileoverview Helpers for google.colab Python module.\n",
              " */\n",
              "(function(scope) {\n",
              "function span(text, styleAttributes = {}) {\n",
              "  const element = document.createElement('span');\n",
              "  element.textContent = text;\n",
              "  for (const key of Object.keys(styleAttributes)) {\n",
              "    element.style[key] = styleAttributes[key];\n",
              "  }\n",
              "  return element;\n",
              "}\n",
              "\n",
              "// Max number of bytes which will be uploaded at a time.\n",
              "const MAX_PAYLOAD_SIZE = 100 * 1024;\n",
              "\n",
              "function _uploadFiles(inputId, outputId) {\n",
              "  const steps = uploadFilesStep(inputId, outputId);\n",
              "  const outputElement = document.getElementById(outputId);\n",
              "  // Cache steps on the outputElement to make it available for the next call\n",
              "  // to uploadFilesContinue from Python.\n",
              "  outputElement.steps = steps;\n",
              "\n",
              "  return _uploadFilesContinue(outputId);\n",
              "}\n",
              "\n",
              "// This is roughly an async generator (not supported in the browser yet),\n",
              "// where there are multiple asynchronous steps and the Python side is going\n",
              "// to poll for completion of each step.\n",
              "// This uses a Promise to block the python side on completion of each step,\n",
              "// then passes the result of the previous step as the input to the next step.\n",
              "function _uploadFilesContinue(outputId) {\n",
              "  const outputElement = document.getElementById(outputId);\n",
              "  const steps = outputElement.steps;\n",
              "\n",
              "  const next = steps.next(outputElement.lastPromiseValue);\n",
              "  return Promise.resolve(next.value.promise).then((value) => {\n",
              "    // Cache the last promise value to make it available to the next\n",
              "    // step of the generator.\n",
              "    outputElement.lastPromiseValue = value;\n",
              "    return next.value.response;\n",
              "  });\n",
              "}\n",
              "\n",
              "/**\n",
              " * Generator function which is called between each async step of the upload\n",
              " * process.\n",
              " * @param {string} inputId Element ID of the input file picker element.\n",
              " * @param {string} outputId Element ID of the output display.\n",
              " * @return {!Iterable<!Object>} Iterable of next steps.\n",
              " */\n",
              "function* uploadFilesStep(inputId, outputId) {\n",
              "  const inputElement = document.getElementById(inputId);\n",
              "  inputElement.disabled = false;\n",
              "\n",
              "  const outputElement = document.getElementById(outputId);\n",
              "  outputElement.innerHTML = '';\n",
              "\n",
              "  const pickedPromise = new Promise((resolve) => {\n",
              "    inputElement.addEventListener('change', (e) => {\n",
              "      resolve(e.target.files);\n",
              "    });\n",
              "  });\n",
              "\n",
              "  const cancel = document.createElement('button');\n",
              "  inputElement.parentElement.appendChild(cancel);\n",
              "  cancel.textContent = 'Cancel upload';\n",
              "  const cancelPromise = new Promise((resolve) => {\n",
              "    cancel.onclick = () => {\n",
              "      resolve(null);\n",
              "    };\n",
              "  });\n",
              "\n",
              "  // Wait for the user to pick the files.\n",
              "  const files = yield {\n",
              "    promise: Promise.race([pickedPromise, cancelPromise]),\n",
              "    response: {\n",
              "      action: 'starting',\n",
              "    }\n",
              "  };\n",
              "\n",
              "  cancel.remove();\n",
              "\n",
              "  // Disable the input element since further picks are not allowed.\n",
              "  inputElement.disabled = true;\n",
              "\n",
              "  if (!files) {\n",
              "    return {\n",
              "      response: {\n",
              "        action: 'complete',\n",
              "      }\n",
              "    };\n",
              "  }\n",
              "\n",
              "  for (const file of files) {\n",
              "    const li = document.createElement('li');\n",
              "    li.append(span(file.name, {fontWeight: 'bold'}));\n",
              "    li.append(span(\n",
              "        `(${file.type || 'n/a'}) - ${file.size} bytes, ` +\n",
              "        `last modified: ${\n",
              "            file.lastModifiedDate ? file.lastModifiedDate.toLocaleDateString() :\n",
              "                                    'n/a'} - `));\n",
              "    const percent = span('0% done');\n",
              "    li.appendChild(percent);\n",
              "\n",
              "    outputElement.appendChild(li);\n",
              "\n",
              "    const fileDataPromise = new Promise((resolve) => {\n",
              "      const reader = new FileReader();\n",
              "      reader.onload = (e) => {\n",
              "        resolve(e.target.result);\n",
              "      };\n",
              "      reader.readAsArrayBuffer(file);\n",
              "    });\n",
              "    // Wait for the data to be ready.\n",
              "    let fileData = yield {\n",
              "      promise: fileDataPromise,\n",
              "      response: {\n",
              "        action: 'continue',\n",
              "      }\n",
              "    };\n",
              "\n",
              "    // Use a chunked sending to avoid message size limits. See b/62115660.\n",
              "    let position = 0;\n",
              "    do {\n",
              "      const length = Math.min(fileData.byteLength - position, MAX_PAYLOAD_SIZE);\n",
              "      const chunk = new Uint8Array(fileData, position, length);\n",
              "      position += length;\n",
              "\n",
              "      const base64 = btoa(String.fromCharCode.apply(null, chunk));\n",
              "      yield {\n",
              "        response: {\n",
              "          action: 'append',\n",
              "          file: file.name,\n",
              "          data: base64,\n",
              "        },\n",
              "      };\n",
              "\n",
              "      let percentDone = fileData.byteLength === 0 ?\n",
              "          100 :\n",
              "          Math.round((position / fileData.byteLength) * 100);\n",
              "      percent.textContent = `${percentDone}% done`;\n",
              "\n",
              "    } while (position < fileData.byteLength);\n",
              "  }\n",
              "\n",
              "  // All done.\n",
              "  yield {\n",
              "    response: {\n",
              "      action: 'complete',\n",
              "    }\n",
              "  };\n",
              "}\n",
              "\n",
              "scope.google = scope.google || {};\n",
              "scope.google.colab = scope.google.colab || {};\n",
              "scope.google.colab._files = {\n",
              "  _uploadFiles,\n",
              "  _uploadFilesContinue,\n",
              "};\n",
              "})(self);\n",
              "</script> "
            ]
          },
          "metadata": {}
        },
        {
          "output_type": "stream",
          "name": "stdout",
          "text": [
            "Saving Argentina.zip to Argentina (1).zip\n",
            "Extracted to /content/extracted\n"
          ]
        }
      ]
    },
    {
      "cell_type": "code",
      "source": [
        "# Pick a file inside the zip\n",
        "with zipfile.ZipFile(\"Argentina.zip\") as z:\n",
        "    with z.open(\"ar_properties.csv\") as f:\n",
        "        df = pd.read_csv(f)\n",
        "# Preview data\n",
        "print(df.head())\n",
        "print(df.info())"
      ],
      "metadata": {
        "colab": {
          "base_uri": "https://localhost:8080/"
        },
        "id": "LJ2hdrckBTKL",
        "outputId": "b2073320-ae0b-4b32-9e5c-d2b3f274cabd"
      },
      "execution_count": 23,
      "outputs": [
        {
          "output_type": "stream",
          "name": "stdout",
          "text": [
            "                         id    ad_type  start_date    end_date  created_on  \\\n",
            "0  wdQ5hWhv8P14T7Sh9g4QCg==  Propiedad  2020-12-25  9999-12-31  2020-12-25   \n",
            "1  nnMBYZ4RMRY+vm753EtA+g==  Propiedad  2020-12-25  9999-12-31  2020-12-25   \n",
            "2  +dnVA1K6JxzL1zAjOEQ1pA==  Propiedad  2020-12-25  2020-12-29  2020-12-25   \n",
            "3  dLHXKN5/sRZpm9Yk0yI2nA==  Propiedad  2020-12-25  2020-12-29  2020-12-25   \n",
            "4  wtw/k887EPipd37UYHKb1Q==  Propiedad  2020-12-25  9999-12-31  2020-12-25   \n",
            "\n",
            "         lat        lon         l1                        l2        l3  ...  \\\n",
            "0 -32.716652 -68.642692  Argentina                   Mendoza       NaN  ...   \n",
            "1 -24.797723 -65.467514  Argentina                     Salta       NaN  ...   \n",
            "2 -34.919373 -58.020591  Argentina    Bs.As. G.B.A. Zona Sur  La Plata  ...   \n",
            "3 -34.919455 -58.024807  Argentina    Bs.As. G.B.A. Zona Sur  La Plata  ...   \n",
            "4 -34.364924 -58.783143  Argentina  Bs.As. G.B.A. Zona Norte   Escobar  ...   \n",
            "\n",
            "  bathrooms surface_total  surface_covered  price  currency  price_period  \\\n",
            "0       NaN         350.0            350.0    NaN       NaN           NaN   \n",
            "1       NaN        1541.0           1541.0    NaN       NaN       Mensual   \n",
            "2       NaN        1000.0           1000.0    NaN       NaN       Mensual   \n",
            "3       NaN        1000.0           1000.0    NaN       NaN       Mensual   \n",
            "4       NaN       18164.0          18164.0    NaN       NaN       Mensual   \n",
            "\n",
            "                                               title  \\\n",
            "0                     Excelentes Lotes Sobre Ruta 34   \n",
            "1  TERRENO + VENTA + JARDINES DE SAN LORENZO +150...   \n",
            "2               Lote en Venta de 1000 m2 en La Plata   \n",
            "3               Lote en Venta de 1000 m2 en La Plata   \n",
            "4                                 PANAMERICANA 47300   \n",
            "\n",
            "                                         description  property_type  \\\n",
            "0  Corredor Responsable: VICTOR E. MONTIVERO - C....           Lote   \n",
            "1  Corredor Responsable: Pablo Castañeda - C.U.C....           Lote   \n",
            "2  Corredor Responsable: Rico Sebastián - Martill...           Lote   \n",
            "3  Corredor Responsable: Rico Sebastián - Martill...           Lote   \n",
            "4  Nave principal 66 x 90 m:    6005 m2 cubiertos...           Otro   \n",
            "\n",
            "  operation_type  \n",
            "0          Venta  \n",
            "1          Venta  \n",
            "2          Venta  \n",
            "3          Venta  \n",
            "4          Venta  \n",
            "\n",
            "[5 rows x 25 columns]\n",
            "<class 'pandas.core.frame.DataFrame'>\n",
            "RangeIndex: 1000000 entries, 0 to 999999\n",
            "Data columns (total 25 columns):\n",
            " #   Column           Non-Null Count    Dtype  \n",
            "---  ------           --------------    -----  \n",
            " 0   id               1000000 non-null  object \n",
            " 1   ad_type          1000000 non-null  object \n",
            " 2   start_date       1000000 non-null  object \n",
            " 3   end_date         1000000 non-null  object \n",
            " 4   created_on       1000000 non-null  object \n",
            " 5   lat              849189 non-null   float64\n",
            " 6   lon              848255 non-null   float64\n",
            " 7   l1               1000000 non-null  object \n",
            " 8   l2               1000000 non-null  object \n",
            " 9   l3               946673 non-null   object \n",
            " 10  l4               239496 non-null   object \n",
            " 11  l5               5001 non-null     object \n",
            " 12  l6               0 non-null        float64\n",
            " 13  rooms            526423 non-null   float64\n",
            " 14  bedrooms         466213 non-null   float64\n",
            " 15  bathrooms        776733 non-null   float64\n",
            " 16  surface_total    379501 non-null   float64\n",
            " 17  surface_covered  381451 non-null   float64\n",
            " 18  price            963098 non-null   float64\n",
            " 19  currency         961719 non-null   object \n",
            " 20  price_period     363015 non-null   object \n",
            " 21  title            1000000 non-null  object \n",
            " 22  description      999982 non-null   object \n",
            " 23  property_type    1000000 non-null  object \n",
            " 24  operation_type   1000000 non-null  object \n",
            "dtypes: float64(9), object(16)\n",
            "memory usage: 190.7+ MB\n",
            "None\n"
          ]
        }
      ]
    },
    {
      "cell_type": "code",
      "source": [
        "# Calculate % of missing values per column\n",
        "missing_percentages = df.isnull().sum() / len(df) * 100\n",
        "\n",
        "# Create a bar chart of missing values\n",
        "plt.figure(figsize=(12, 6))\n",
        "missing_percentages.plot(kind='bar')\n",
        "plt.title('Percentage of Missing Values per Column')\n",
        "plt.xlabel('Columns')\n",
        "plt.ylabel('Percentage of Missing Values')\n",
        "plt.xticks(rotation=90)\n",
        "plt.tight_layout()\n",
        "plt.show()"
      ],
      "metadata": {
        "colab": {
          "base_uri": "https://localhost:8080/",
          "height": 607
        },
        "id": "GwoHo-muPp8p",
        "outputId": "3210219e-69ab-467a-f276-5dd0e49abede"
      },
      "execution_count": 16,
      "outputs": [
        {
          "output_type": "display_data",
          "data": {
            "text/plain": [
              "<Figure size 1200x600 with 1 Axes>"
            ],
            "image/png": "[encoded data removed]"
          },
          "metadata": {}
        }
      ]
    },
    {
      "cell_type": "code",
      "source": [
        "df_imputed = df.copy()   # Make a copy of the dataset\n",
        "\n",
        "# Find numerical and categorical columns with missing values\n",
        "numerical_cols_with_missing = df_imputed.select_dtypes(include=np.number).columns[\n",
        "    df_imputed.select_dtypes(include=np.number).isnull().any()\n",
        "]\n",
        "categorical_cols_with_missing = df_imputed.select_dtypes(include='object').columns[\n",
        "    df_imputed.select_dtypes(include='object').isnull().any()\n",
        "]\n",
        "\n",
        "# Fill missing values in numerical columns with median\n",
        "for col in numerical_cols_with_missing:\n",
        "    median_value = df_imputed[col].median()\n",
        "    df_imputed[col] = df_imputed[col].fillna(median_value)\n",
        "\n",
        "# Fill missing values in categorical columns with mode\n",
        "for col in categorical_cols_with_missing:\n",
        "    mode_value = df_imputed[col].mode()\n",
        "    if not mode_value.empty:\n",
        "        df_imputed[col] = df_imputed[col].fillna(mode_value[0])\n",
        "\n",
        "# Check if all missing values were handled\n",
        "display(df_imputed[numerical_cols_with_missing].isnull().sum())\n",
        "display(df_imputed[categorical_cols_with_missing].isnull().sum())"
      ],
      "metadata": {
        "colab": {
          "base_uri": "https://localhost:8080/",
          "height": 621
        },
        "id": "uKsYdjEjQuun",
        "outputId": "530b324c-98b8-4328-9587-448ee5620f3e"
      },
      "execution_count": 18,
      "outputs": [
        {
          "output_type": "display_data",
          "data": {
            "text/plain": [
              "lat                      0\n",
              "lon                      0\n",
              "l6                 1000000\n",
              "rooms                    0\n",
              "bedrooms                 0\n",
              "bathrooms                0\n",
              "surface_total            0\n",
              "surface_covered          0\n",
              "price                    0\n",
              "dtype: int64"
            ],
            "text/html": [
              "<div>\n",
              "<style scoped>\n",
              "    .dataframe tbody tr th:only-of-type {\n",
              "        vertical-align: middle;\n",
              "    }\n",
              "\n",
              "    .dataframe tbody tr th {\n",
              "        vertical-align: top;\n",
              "    }\n",
              "\n",
              "    .dataframe thead th {\n",
              "        text-align: right;\n",
              "    }\n",
              "</style>\n",
              "<table border=\"1\" class=\"dataframe\">\n",
              "  <thead>\n",
              "    <tr style=\"text-align: right;\">\n",
              "      <th></th>\n",
              "      <th>0</th>\n",
              "    </tr>\n",
              "  </thead>\n",
              "  <tbody>\n",
              "    <tr>\n",
              "      <th>lat</th>\n",
              "      <td>0</td>\n",
              "    </tr>\n",
              "    <tr>\n",
              "      <th>lon</th>\n",
              "      <td>0</td>\n",
              "    </tr>\n",
              "    <tr>\n",
              "      <th>l6</th>\n",
              "      <td>1000000</td>\n",
              "    </tr>\n",
              "    <tr>\n",
              "      <th>rooms</th>\n",
              "      <td>0</td>\n",
              "    </tr>\n",
              "    <tr>\n",
              "      <th>bedrooms</th>\n",
              "      <td>0</td>\n",
              "    </tr>\n",
              "    <tr>\n",
              "      <th>bathrooms</th>\n",
              "      <td>0</td>\n",
              "    </tr>\n",
              "    <tr>\n",
              "      <th>surface_total</th>\n",
              "      <td>0</td>\n",
              "    </tr>\n",
              "    <tr>\n",
              "      <th>surface_covered</th>\n",
              "      <td>0</td>\n",
              "    </tr>\n",
              "    <tr>\n",
              "      <th>price</th>\n",
              "      <td>0</td>\n",
              "    </tr>\n",
              "  </tbody>\n",
              "</table>\n",
              "</div><br><label><b>dtype:</b> int64</label>"
            ]
          },
          "metadata": {}
        },
        {
          "output_type": "display_data",
          "data": {
            "text/plain": [
              "l3              0\n",
              "l4              0\n",
              "l5              0\n",
              "currency        0\n",
              "price_period    0\n",
              "description     0\n",
              "dtype: int64"
            ],
            "text/html": [
              "<div>\n",
              "<style scoped>\n",
              "    .dataframe tbody tr th:only-of-type {\n",
              "        vertical-align: middle;\n",
              "    }\n",
              "\n",
              "    .dataframe tbody tr th {\n",
              "        vertical-align: top;\n",
              "    }\n",
              "\n",
              "    .dataframe thead th {\n",
              "        text-align: right;\n",
              "    }\n",
              "</style>\n",
              "<table border=\"1\" class=\"dataframe\">\n",
              "  <thead>\n",
              "    <tr style=\"text-align: right;\">\n",
              "      <th></th>\n",
              "      <th>0</th>\n",
              "    </tr>\n",
              "  </thead>\n",
              "  <tbody>\n",
              "    <tr>\n",
              "      <th>l3</th>\n",
              "      <td>0</td>\n",
              "    </tr>\n",
              "    <tr>\n",
              "      <th>l4</th>\n",
              "      <td>0</td>\n",
              "    </tr>\n",
              "    <tr>\n",
              "      <th>l5</th>\n",
              "      <td>0</td>\n",
              "    </tr>\n",
              "    <tr>\n",
              "      <th>currency</th>\n",
              "      <td>0</td>\n",
              "    </tr>\n",
              "    <tr>\n",
              "      <th>price_period</th>\n",
              "      <td>0</td>\n",
              "    </tr>\n",
              "    <tr>\n",
              "      <th>description</th>\n",
              "      <td>0</td>\n",
              "    </tr>\n",
              "  </tbody>\n",
              "</table>\n",
              "</div><br><label><b>dtype:</b> int64</label>"
            ]
          },
          "metadata": {}
        }
      ]
    },
    {
      "cell_type": "code",
      "source": [
        "from sklearn.model_selection import train_test_split\n",
        "from sklearn.tree import DecisionTreeRegressor\n",
        "from sklearn.metrics import mean_squared_error\n",
        "\n",
        "# 1. Select features and target variable\n",
        "features = ['ad_type', 'property_type', 'operation_type', 'rooms', 'bedrooms', 'bathrooms', 'surface_total', 'surface_covered', 'currency', 'price_period']\n",
        "target = 'price'\n",
        "\n",
        "X = df_imputed[features]\n",
        "y = df_imputed[target]\n",
        "\n",
        "# 2. Handle categorical features\n",
        "X = pd.get_dummies(X, columns=['ad_type', 'property_type', 'operation_type', 'currency', 'price_period'], drop_first=True)\n",
        "\n",
        "# 3. Split the dataset\n",
        "X_train, X_test, y_train, y_test = train_test_split(X, y, test_size=0.2, random_state=42)\n",
        "\n",
        "# 4. Import and 5. Instantiate and train a Decision Tree model\n",
        "model = DecisionTreeRegressor(random_state=42)\n",
        "model.fit(X_train, y_train)\n",
        "\n",
        "# 6. Make predictions\n",
        "y_pred = model.predict(X_test)\n",
        "\n",
        "# 7. Evaluate the model's performance\n",
        "mse = mean_squared_error(y_test, y_pred)\n",
        "rmse = np.sqrt(mse)\n",
        "\n",
        "print(f'Mean Squared Error: {mse}')\n",
        "print(f'Root Mean Squared Error: {rmse}')"
      ],
      "metadata": {
        "colab": {
          "base_uri": "https://localhost:8080/"
        },
        "id": "ZYKlxZD9RtXA",
        "outputId": "f4829d68-2bfb-4127-e17f-b8ea795914b1"
      },
      "execution_count": 19,
      "outputs": [
        {
          "output_type": "stream",
          "name": "stdout",
          "text": [
            "Mean Squared Error: 61449480554276.39\n",
            "Root Mean Squared Error: 7838971.906715599\n"
          ]
        }
      ]
    },
    {
      "cell_type": "code",
      "source": [
        "from sklearn.model_selection import train_test_split\n",
        "from sklearn.tree import DecisionTreeRegressor\n",
        "from sklearn.metrics import mean_squared_error\n",
        "\n",
        "# 1. Select features and target variable from the original DataFrame df\n",
        "features = ['ad_type', 'property_type', 'operation_type', 'rooms', 'bedrooms', 'bathrooms', 'surface_total', 'surface_covered', 'currency', 'price_period']\n",
        "target = 'price'\n",
        "\n",
        "# Drop rows where the target variable 'price' is missing, as the model cannot be trained or evaluated on these.\n",
        "# Include the target variable in the subset for dropping NaNs\n",
        "df_cleaned = df.dropna(subset=[target] + features)\n",
        "\n",
        "X = df_cleaned[features]\n",
        "y = df_cleaned[target]\n",
        "\n",
        "# 2. Apply one-hot encoding to the categorical features\n",
        "# Use dummy_na=True to explicitly handle NaN values in categorical columns\n",
        "X = pd.get_dummies(X, columns=['ad_type', 'property_type', 'operation_type', 'currency', 'price_period'], dummy_na=True, drop_first=True)\n",
        "\n",
        "# 3. Split the processed dataset into training and testing sets\n",
        "X_train, X_test, y_train, y_test = train_test_split(X, y, test_size=0.2, random_state=42)\n",
        "\n",
        "# 4. Instantiate a DecisionTreeRegressor model\n",
        "model_no_imputation = DecisionTreeRegressor(random_state=42)\n",
        "\n",
        "# 5. Train the Decision Tree model on the training data containing missing values\n",
        "model_no_imputation.fit(X_train, y_train)\n",
        "\n",
        "# 6. Make predictions on the test data containing missing values\n",
        "y_pred_no_imputation = model_no_imputation.predict(X_test)\n",
        "\n",
        "# 7. Evaluate the model's performance\n",
        "mse_no_imputation = mean_squared_error(y_test, y_pred_no_imputation)\n",
        "rmse_no_imputation = np.sqrt(mse_no_imputation)\n",
        "\n",
        "# 8. Print the calculated MSE and RMSE values\n",
        "print(f'Mean Squared Error (No Imputation): {mse_no_imputation}')\n",
        "print(f'Root Mean Squared Error (No Imputation): {rmse_no_imputation}')"
      ],
      "metadata": {
        "colab": {
          "base_uri": "https://localhost:8080/"
        },
        "id": "6EwQTtzJSCPz",
        "outputId": "35dc819d-d9bc-4065-b2ad-f56fb3724d35"
      },
      "execution_count": 24,
      "outputs": [
        {
          "output_type": "stream",
          "name": "stdout",
          "text": [
            "Mean Squared Error (No Imputation): 1568443921575.9482\n",
            "Root Mean Squared Error (No Imputation): 1252375.3117879434\n"
          ]
        }
      ]
    },
    {
      "cell_type": "code",
      "source": [
        "from sklearn.model_selection import train_test_split\n",
        "from sklearn.tree import DecisionTreeRegressor\n",
        "from sklearn.metrics import mean_squared_error\n",
        "\n",
        "# Select features and target variable from the original DataFrame df\n",
        "features = ['ad_type', 'property_type', 'operation_type', 'rooms', 'bedrooms', 'bathrooms', 'surface_total', 'surface_covered', 'currency', 'price_period']\n",
        "target = 'price'\n",
        "\n",
        "# Drop rows where the target variable 'price' is missing, as the model cannot be trained or evaluated on these.\n",
        "# Include the target variable in the subset for dropping NaNs\n",
        "df_cleaned = df.dropna(subset=[target] + features)\n",
        "\n",
        "X = df_cleaned[features]\n",
        "y = df_cleaned[target]\n",
        "\n",
        "# 2. Apply one-hot encoding to the categorical features\n",
        "# Use dummy_na=True to explicitly handle NaN values in categorical columns\n",
        "X = pd.get_dummies(X, columns=['ad_type', 'property_type', 'operation_type', 'currency', 'price_period'], dummy_na=True, drop_first=True)\n",
        "\n",
        "# 3. Split the processed dataset into training and testing sets\n",
        "X_train, X_test, y_train, y_test = train_test_split(X, y, test_size=0.2, random_state=42)\n",
        "\n",
        "# 4. Instantiate a DecisionTreeRegressor model\n",
        "model_no_imputation = DecisionTreeRegressor(random_state=42)\n",
        "\n",
        "# 5. Train the Decision Tree model on the training data containing missing values\n",
        "model_no_imputation.fit(X_train, y_train)\n",
        "\n",
        "# 6. Make predictions on the test data containing missing values\n",
        "y_pred_no_imputation = model_no_imputation.predict(X_test)\n",
        "\n",
        "# 7. Evaluate the model's performance\n",
        "mse_no_imputation = mean_squared_error(y_test, y_pred_no_imputation)\n",
        "rmse_no_imputation = np.sqrt(mse_no_imputation)\n",
        "\n",
        "# 8. Print the calculated MSE and RMSE values\n",
        "print(f'Mean Squared Error (No Imputation): {mse_no_imputation}')\n",
        "print(f'Root Mean Squared Error (No Imputation): {rmse_no_imputation}')"
      ],
      "metadata": {
        "colab": {
          "base_uri": "https://localhost:8080/"
        },
        "id": "KzfY92wQSisn",
        "outputId": "3fab16a7-6cf5-45b4-be62-ce252dc557e3"
      },
      "execution_count": 25,
      "outputs": [
        {
          "output_type": "stream",
          "name": "stdout",
          "text": [
            "Mean Squared Error (No Imputation): 1568443921575.9482\n",
            "Root Mean Squared Error (No Imputation): 1252375.3117879434\n"
          ]
        }
      ]
    },
    {
      "cell_type": "code",
      "source": [
        "import xgboost as xgb\n",
        "from sklearn.metrics import mean_squared_error\n",
        "\n",
        "# Instantiate an XGBRegressor model\n",
        "# Use default parameters for simplicity, XGBoost handles NaN by default\n",
        "model_xgb = xgb.XGBRegressor(objective='reg:squarederror', random_state=42)\n",
        "\n",
        "# Train the XGBoost model on the training data X_train and y_train.\n",
        "# X_train and y_train here already contain the data after handling categorical features and dropping rows with missing target.\n",
        "model_xgb.fit(X_train, y_train)\n",
        "\n",
        "# Make predictions on the testing data X_test\n",
        "y_pred_xgb = model_xgb.predict(X_test)\n",
        "\n",
        "# Calculate the Mean Squared Error (MSE) and Root Mean Squared Error (RMSE)\n",
        "mse_xgb = mean_squared_error(y_test, y_pred_xgb)\n",
        "rmse_xgb = np.sqrt(mse_xgb)\n",
        "\n",
        "# Print the calculated MSE and RMSE values\n",
        "print(f'XGBoost Mean Squared Error: {mse_xgb}')\n",
        "print(f'XGBoost Root Mean Squared Error: {rmse_xgb}')"
      ],
      "metadata": {
        "colab": {
          "base_uri": "https://localhost:8080/"
        },
        "id": "5bo8SKrKTTdW",
        "outputId": "8090cfb3-a550-48a3-bc10-486f44c8ff0e"
      },
      "execution_count": 26,
      "outputs": [
        {
          "output_type": "stream",
          "name": "stdout",
          "text": [
            "XGBoost Mean Squared Error: 693149312351.7819\n",
            "XGBoost Root Mean Squared Error: 832555.8914281862\n"
          ]
        }
      ]
    },
    {
      "cell_type": "code",
      "source": [
        "import lightgbm as lgb\n",
        "from sklearn.metrics import mean_squared_error\n",
        "\n",
        "# Instantiate a lgb.LGBMRegressor model. Use default parameters for simplicity.\n",
        "model_lgb = lgb.LGBMRegressor(random_state=42)\n",
        "\n",
        "# Train the LightGBM model on the training data X_train and y_train.\n",
        "# X_train and y_train here already contain the data after handling categorical features and dropping rows with missing target.\n",
        "model_lgb.fit(X_train, y_train)\n",
        "\n",
        "# Make predictions on the testing data X_test.\n",
        "y_pred_lgb = model_lgb.predict(X_test)\n",
        "\n",
        "# Calculate the Mean Squared Error (MSE) and Root Mean Squared Error (RMSE) of the predictions compared to the actual values y_test.\n",
        "mse_lgb = mean_squared_error(y_test, y_pred_lgb)\n",
        "rmse_lgb = np.sqrt(mse_lgb)\n",
        "\n",
        "# Print the calculated MSE and RMSE values, clearly labeling them as LightGBM results.\n",
        "print(f'LightGBM Mean Squared Error: {mse_lgb}')\n",
        "print(f'LightGBM Root Mean Squared Error: {rmse_lgb}')"
      ],
      "metadata": {
        "colab": {
          "base_uri": "https://localhost:8080/"
        },
        "id": "eKnb64RYTWri",
        "outputId": "46355450-1849-418f-c24a-1483d3dd3418"
      },
      "execution_count": 27,
      "outputs": [
        {
          "output_type": "stream",
          "name": "stdout",
          "text": [
            "[LightGBM] [Warning] Found whitespace in feature_names, replace with underlines\n",
            "[LightGBM] [Info] Auto-choosing row-wise multi-threading, the overhead of testing was 0.008107 seconds.\n",
            "You can set `force_row_wise=true` to remove the overhead.\n",
            "And if memory is not enough, you can set `force_col_wise=true`.\n",
            "[LightGBM] [Info] Total Bins 589\n",
            "[LightGBM] [Info] Number of data points in the train set: 77177, number of used features: 16\n",
            "[LightGBM] [Info] Start training from score 348385.577815\n",
            "LightGBM Mean Squared Error: 737039319743.4855\n",
            "LightGBM Root Mean Squared Error: 858509.9415519226\n"
          ]
        }
      ]
    },
    {
      "cell_type": "code",
      "source": [
        "# 1. Create a dictionary to store the RMSE values\n",
        "rmse_comparison = {\n",
        "    'Decision Tree with Imputation': rmse,\n",
        "    'Decision Tree without Imputation': rmse_no_imputation,\n",
        "    'XGBoost': rmse_xgb,\n",
        "    'LightGBM': rmse_lgb\n",
        "}\n",
        "\n",
        "# 2. Display the comparison table or dictionary\n",
        "print(\"RMSE Comparison of Different Models and Imputation Strategies:\")\n",
        "for model, score in rmse_comparison.items():\n",
        "    print(f\"- {model}: {score:.2f}\")\n",
        "\n",
        "# 3. Briefly analyze and comment on the results\n",
        "print(\"\\nAnalysis:\")\n",
        "best_model = min(rmse_comparison, key=rmse_comparison.get)\n",
        "print(f\"Based on RMSE, the best performing model is the {best_model}.\")\n",
        "print(\"Both XGBoost and LightGBM, which handle missing values natively, show significantly lower RMSE compared to the Decision Tree models.\")\n",
        "print(\"The Decision Tree without explicit imputation performed much better than the Decision Tree with simple median/mode imputation, indicating that letting the tree handle NaNs directly was more effective than the simple imputation strategy used.\")"
      ],
      "metadata": {
        "colab": {
          "base_uri": "https://localhost:8080/"
        },
        "id": "7fP4FnFATc4q",
        "outputId": "2c52afe0-992c-4171-abd7-2ec491ce6083"
      },
      "execution_count": 30,
      "outputs": [
        {
          "output_type": "stream",
          "name": "stdout",
          "text": [
            "RMSE Comparison of Different Models and Imputation Strategies:\n",
            "- Decision Tree with Imputation: 7838971.91\n",
            "- Decision Tree without Imputation: 1252375.31\n",
            "- XGBoost: 832555.89\n",
            "- LightGBM: 858509.94\n",
            "\n",
            "Analysis:\n",
            "Based on RMSE, the best performing model is the XGBoost.\n",
            "Both XGBoost and LightGBM, which handle missing values natively, show significantly lower RMSE compared to the Decision Tree models.\n",
            "The Decision Tree without explicit imputation performed much better than the Decision Tree with simple median/mode imputation, indicating that letting the tree handle NaNs directly was more effective than the simple imputation strategy used.\n"
          ]
        }
      ]
    }
  ]
}